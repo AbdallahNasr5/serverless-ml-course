{
 "cells": [
  {
   "cell_type": "code",
   "execution_count": 5,
   "id": "4dbc8e13",
   "metadata": {},
   "outputs": [
    {
     "name": "stdout",
     "output_type": "stream",
     "text": [
      "[0 1]\n"
     ]
    }
   ],
   "source": [
    "import sklearn \n",
    "from sklearn import tree \n",
    "# 4 examples of features with [red-color, green-color]\n",
    "features = [[0,120], [0, 110], [250, 150], [255, 163]]\n",
    "# green apples == 0; oranges == 1\n",
    "labels = [0, 0, 1, 1]\n",
    "\n",
    "clf = tree.DecisionTreeClassifier()\n",
    "clf = clf.fit(features, labels)\n",
    "\n",
    "test_features = [[0,128], [249, 155]]\n",
    "test_labels = [0, 1] \n",
    "pred_labels = clf.predict(test_features)\n",
    "print(pred_labels)\n"
   ]
  },
  {
   "cell_type": "code",
   "execution_count": null,
   "id": "876d0cf6",
   "metadata": {},
   "outputs": [],
   "source": []
  }
 ],
 "metadata": {
  "kernelspec": {
   "display_name": "38",
   "language": "python",
   "name": "38"
  },
  "language_info": {
   "codemirror_mode": {
    "name": "ipython",
    "version": 3
   },
   "file_extension": ".py",
   "mimetype": "text/x-python",
   "name": "python",
   "nbconvert_exporter": "python",
   "pygments_lexer": "ipython3",
   "version": "3.8.13"
  }
 },
 "nbformat": 4,
 "nbformat_minor": 5
}
