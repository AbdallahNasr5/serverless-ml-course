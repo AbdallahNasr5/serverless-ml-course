{
 "cells": [
  {
   "cell_type": "markdown",
   "metadata": {
    "id": "d2kLrOh-bpGy"
   },
   "source": [
    "# Iris Flower - Batch Prediction\n",
    "\n",
    "\n",
    "In this notebook we will, \n",
    "\n",
    "1. Load the batch inference data that arrived in the last 24 hours\n",
    "2. Predict the first Iris Flower found in the batch\n",
    "3. Write the ouput png of the Iris flower predicted, to be displayed in Github Pages."
   ]
  },
  {
   "cell_type": "code",
   "execution_count": 1,
   "metadata": {
    "execution": {
     "iopub.execute_input": "2022-09-14T05:56:44.230347Z",
     "iopub.status.busy": "2022-09-14T05:56:44.229782Z",
     "iopub.status.idle": "2022-09-14T05:56:46.740850Z",
     "shell.execute_reply": "2022-09-14T05:56:46.739923Z"
    },
    "id": "xRtpj-psbpG8"
   },
   "outputs": [
    {
     "name": "stdout",
     "output_type": "stream",
     "text": [
      "Connected. Call `.close()` to terminate connection gracefully.\n",
      "\n",
      "Logged in to project, explore it here https://c.app.hopsworks.ai:443/p/398\n",
      "Connected. Call `.close()` to terminate connection gracefully.\n"
     ]
    },
    {
     "name": "stderr",
     "output_type": "stream",
     "text": [
      "DeprecationWarning: the imp module is deprecated in favour of importlib; see the module's documentation for alternative uses\n"
     ]
    }
   ],
   "source": [
    "import pandas as pd\n",
    "import hopsworks\n",
    "import joblib\n",
    "\n",
    "project = hopsworks.login()\n",
    "fs = project.get_feature_store()"
   ]
  },
  {
   "cell_type": "code",
   "execution_count": 2,
   "metadata": {
    "execution": {
     "iopub.execute_input": "2022-09-14T05:56:46.745828Z",
     "iopub.status.busy": "2022-09-14T05:56:46.745358Z",
     "iopub.status.idle": "2022-09-14T05:56:58.746755Z",
     "shell.execute_reply": "2022-09-14T05:56:58.746075Z"
    }
   },
   "outputs": [
    {
     "name": "stdout",
     "output_type": "stream",
     "text": [
      "Connected. Call `.close()` to terminate connection gracefully.\n",
      "Downloading file ... "
     ]
    },
    {
     "name": "stderr",
     "output_type": "stream",
     "text": [
      "UserWarning: Trying to unpickle estimator KNeighborsClassifier from version 1.1.1 when using version 1.1.2. This might lead to breaking code or invalid results. Use at your own risk. For more info please refer to:\n",
      "https://scikit-learn.org/stable/model_persistence.html#security-maintainability-limitations\n"
     ]
    }
   ],
   "source": [
    "mr = project.get_model_registry()\n",
    "model = mr.get_model(\"iris\", version=1)\n",
    "model_dir = model.download()\n",
    "model = joblib.load(model_dir + \"/iris_model.pkl\")"
   ]
  },
  {
   "cell_type": "markdown",
   "metadata": {},
   "source": [
    "We are downloading the 'raw' iris data. We explicitly do not want transformed data, reading for training. \n",
    "\n",
    "So, let's download the iris dataset, and preview some rows. \n",
    "\n",
    "Note, that it is 'tabular data'. There are 5 columns: 4 of them are \"features\", and the \"variety\" column is the **target** (what we are trying to predict using the 4 feature values in the target's row)."
   ]
  },
  {
   "cell_type": "code",
   "execution_count": 3,
   "metadata": {
    "colab": {
     "base_uri": "https://localhost:8080/",
     "height": 206
    },
    "execution": {
     "iopub.execute_input": "2022-09-14T05:56:58.750194Z",
     "iopub.status.busy": "2022-09-14T05:56:58.749703Z",
     "iopub.status.idle": "2022-09-14T05:56:59.066113Z",
     "shell.execute_reply": "2022-09-14T05:56:59.065256Z"
    },
    "id": "nRmFM7vcbpHA",
    "outputId": "d920d168-9818-40c5-c292-4cf0afcbbcfd"
   },
   "outputs": [],
   "source": [
    "feature_view = fs.get_feature_view(name=\"iris\", version=1)"
   ]
  },
  {
   "cell_type": "markdown",
   "metadata": {},
   "source": [
    "Now we will do some **Batch Inference**. \n",
    "\n",
    "We will read all the input features that have arrived in the last 24 hours, and score them."
   ]
  },
  {
   "cell_type": "code",
   "execution_count": 4,
   "metadata": {
    "execution": {
     "iopub.execute_input": "2022-09-14T05:56:59.070235Z",
     "iopub.status.busy": "2022-09-14T05:56:59.069786Z",
     "iopub.status.idle": "2022-09-14T05:57:02.092192Z",
     "shell.execute_reply": "2022-09-14T05:57:02.091491Z"
    },
    "id": "uHuAD3ttP8Ep"
   },
   "outputs": [
    {
     "name": "stderr",
     "output_type": "stream",
     "text": [
      "VersionWarning: No training dataset version was provided to initialise batch scoring . Defaulting to version 1.\n"
     ]
    },
    {
     "name": "stdout",
     "output_type": "stream",
     "text": [
      "2022-09-14 05:56:59,724 INFO: USE `dowlingj_featurestore`\n",
      "2022-09-14 05:57:00,530 INFO: SELECT `fg0`.`sepal_length` `sepal_length`, `fg0`.`sepal_width` `sepal_width`, `fg0`.`petal_length` `petal_length`, `fg0`.`petal_width` `petal_width`\n",
      "FROM `dowlingj_featurestore`.`iris_1` `fg0`\n"
     ]
    },
    {
     "name": "stderr",
     "output_type": "stream",
     "text": [
      "UserWarning: pandas only support SQLAlchemy connectable(engine/connection) ordatabase string URI or sqlite3 DBAPI2 connectionother DBAPI2 objects are not tested, please consider using SQLAlchemy\n"
     ]
    },
    {
     "data": {
      "text/plain": [
       "array(['Versicolor', 'Setosa', 'Virginica', 'Versicolor', 'Virginica',\n",
       "       'Setosa', 'Virginica', 'Virginica', 'Versicolor', 'Versicolor',\n",
       "       'Virginica', 'Virginica', 'Virginica', 'Virginica', 'Virginica',\n",
       "       'Virginica', 'Versicolor', 'Setosa', 'Versicolor', 'Versicolor',\n",
       "       'Versicolor', 'Versicolor', 'Versicolor', 'Setosa', 'Virginica',\n",
       "       'Setosa', 'Setosa', 'Versicolor', 'Setosa', 'Setosa', 'Versicolor',\n",
       "       'Versicolor', 'Virginica', 'Virginica', 'Setosa', 'Setosa',\n",
       "       'Virginica', 'Setosa', 'Versicolor', 'Setosa', 'Virginica',\n",
       "       'Versicolor', 'Versicolor', 'Setosa', 'Versicolor', 'Versicolor',\n",
       "       'Virginica', 'Versicolor', 'Versicolor', 'Versicolor',\n",
       "       'Versicolor', 'Virginica', 'Versicolor', 'Virginica', 'Versicolor',\n",
       "       'Setosa', 'Versicolor', 'Virginica', 'Setosa', 'Setosa', 'Setosa',\n",
       "       'Virginica', 'Setosa', 'Setosa', 'Versicolor', 'Versicolor',\n",
       "       'Virginica', 'Versicolor', 'Versicolor', 'Virginica', 'Versicolor',\n",
       "       'Versicolor', 'Setosa', 'Virginica', 'Virginica', 'Virginica',\n",
       "       'Versicolor', 'Virginica', 'Virginica', 'Virginica', 'Versicolor',\n",
       "       'Virginica', 'Versicolor', 'Virginica', 'Virginica', 'Setosa',\n",
       "       'Versicolor', 'Virginica', 'Versicolor', 'Setosa', 'Versicolor',\n",
       "       'Versicolor', 'Virginica', 'Setosa', 'Setosa', 'Setosa',\n",
       "       'Versicolor', 'Virginica', 'Setosa', 'Virginica', 'Setosa',\n",
       "       'Setosa', 'Versicolor', 'Virginica', 'Setosa', 'Versicolor',\n",
       "       'Setosa', 'Setosa', 'Setosa', 'Virginica', 'Setosa', 'Virginica',\n",
       "       'Setosa', 'Setosa', 'Setosa', 'Setosa', 'Setosa', 'Setosa',\n",
       "       'Versicolor', 'Setosa', 'Setosa', 'Setosa', 'Versicolor',\n",
       "       'Virginica', 'Versicolor', 'Setosa', 'Virginica', 'Setosa',\n",
       "       'Versicolor', 'Setosa', 'Setosa', 'Virginica', 'Virginica',\n",
       "       'Setosa', 'Versicolor', 'Setosa', 'Versicolor', 'Virginica',\n",
       "       'Virginica', 'Versicolor', 'Versicolor', 'Virginica', 'Versicolor',\n",
       "       'Virginica', 'Versicolor', 'Versicolor', 'Setosa', 'Versicolor',\n",
       "       'Setosa', 'Versicolor', 'Versicolor', 'Setosa', 'Virginica',\n",
       "       'Versicolor'], dtype=object)"
      ]
     },
     "execution_count": 4,
     "metadata": {},
     "output_type": "execute_result"
    }
   ],
   "source": [
    "import datetime\n",
    "from PIL import Image\n",
    "\n",
    "batch_data = feature_view.get_batch_data()\n",
    "\n",
    "y_pred = model.predict(batch_data)\n",
    "\n",
    "y_pred"
   ]
  },
  {
   "cell_type": "code",
   "execution_count": 5,
   "metadata": {
    "execution": {
     "iopub.execute_input": "2022-09-14T05:57:02.095760Z",
     "iopub.status.busy": "2022-09-14T05:57:02.095264Z",
     "iopub.status.idle": "2022-09-14T05:57:02.108170Z",
     "shell.execute_reply": "2022-09-14T05:57:02.107540Z"
    }
   },
   "outputs": [
    {
     "data": {
      "text/html": [
       "<div>\n",
       "<style scoped>\n",
       "    .dataframe tbody tr th:only-of-type {\n",
       "        vertical-align: middle;\n",
       "    }\n",
       "\n",
       "    .dataframe tbody tr th {\n",
       "        vertical-align: top;\n",
       "    }\n",
       "\n",
       "    .dataframe thead th {\n",
       "        text-align: right;\n",
       "    }\n",
       "</style>\n",
       "<table border=\"1\" class=\"dataframe\">\n",
       "  <thead>\n",
       "    <tr style=\"text-align: right;\">\n",
       "      <th></th>\n",
       "      <th>sepal_length</th>\n",
       "      <th>sepal_width</th>\n",
       "      <th>petal_length</th>\n",
       "      <th>petal_width</th>\n",
       "    </tr>\n",
       "  </thead>\n",
       "  <tbody>\n",
       "    <tr>\n",
       "      <th>0</th>\n",
       "      <td>7.335088</td>\n",
       "      <td>3.547577</td>\n",
       "      <td>4.567607</td>\n",
       "      <td>1.693289</td>\n",
       "    </tr>\n",
       "    <tr>\n",
       "      <th>1</th>\n",
       "      <td>4.900000</td>\n",
       "      <td>3.600000</td>\n",
       "      <td>1.400000</td>\n",
       "      <td>0.100000</td>\n",
       "    </tr>\n",
       "    <tr>\n",
       "      <th>2</th>\n",
       "      <td>5.700000</td>\n",
       "      <td>2.500000</td>\n",
       "      <td>5.000000</td>\n",
       "      <td>2.000000</td>\n",
       "    </tr>\n",
       "    <tr>\n",
       "      <th>3</th>\n",
       "      <td>5.700000</td>\n",
       "      <td>3.000000</td>\n",
       "      <td>4.200000</td>\n",
       "      <td>1.200000</td>\n",
       "    </tr>\n",
       "    <tr>\n",
       "      <th>4</th>\n",
       "      <td>6.700000</td>\n",
       "      <td>3.300000</td>\n",
       "      <td>5.700000</td>\n",
       "      <td>2.100000</td>\n",
       "    </tr>\n",
       "    <tr>\n",
       "      <th>...</th>\n",
       "      <td>...</td>\n",
       "      <td>...</td>\n",
       "      <td>...</td>\n",
       "      <td>...</td>\n",
       "    </tr>\n",
       "    <tr>\n",
       "      <th>149</th>\n",
       "      <td>6.300000</td>\n",
       "      <td>3.300000</td>\n",
       "      <td>4.700000</td>\n",
       "      <td>1.600000</td>\n",
       "    </tr>\n",
       "    <tr>\n",
       "      <th>150</th>\n",
       "      <td>6.765720</td>\n",
       "      <td>3.136880</td>\n",
       "      <td>5.054364</td>\n",
       "      <td>1.588958</td>\n",
       "    </tr>\n",
       "    <tr>\n",
       "      <th>151</th>\n",
       "      <td>5.248077</td>\n",
       "      <td>3.524002</td>\n",
       "      <td>1.230167</td>\n",
       "      <td>0.503731</td>\n",
       "    </tr>\n",
       "    <tr>\n",
       "      <th>152</th>\n",
       "      <td>5.560206</td>\n",
       "      <td>3.293820</td>\n",
       "      <td>5.825793</td>\n",
       "      <td>1.598256</td>\n",
       "    </tr>\n",
       "    <tr>\n",
       "      <th>153</th>\n",
       "      <td>5.025268</td>\n",
       "      <td>2.176264</td>\n",
       "      <td>4.495605</td>\n",
       "      <td>1.260169</td>\n",
       "    </tr>\n",
       "  </tbody>\n",
       "</table>\n",
       "<p>154 rows × 4 columns</p>\n",
       "</div>"
      ],
      "text/plain": [
       "     sepal_length  sepal_width  petal_length  petal_width\n",
       "0        7.335088     3.547577      4.567607     1.693289\n",
       "1        4.900000     3.600000      1.400000     0.100000\n",
       "2        5.700000     2.500000      5.000000     2.000000\n",
       "3        5.700000     3.000000      4.200000     1.200000\n",
       "4        6.700000     3.300000      5.700000     2.100000\n",
       "..            ...          ...           ...          ...\n",
       "149      6.300000     3.300000      4.700000     1.600000\n",
       "150      6.765720     3.136880      5.054364     1.588958\n",
       "151      5.248077     3.524002      1.230167     0.503731\n",
       "152      5.560206     3.293820      5.825793     1.598256\n",
       "153      5.025268     2.176264      4.495605     1.260169\n",
       "\n",
       "[154 rows x 4 columns]"
      ]
     },
     "execution_count": 5,
     "metadata": {},
     "output_type": "execute_result"
    }
   ],
   "source": [
    "batch_data"
   ]
  },
  {
   "cell_type": "code",
   "execution_count": 6,
   "metadata": {
    "execution": {
     "iopub.execute_input": "2022-09-14T05:57:02.111441Z",
     "iopub.status.busy": "2022-09-14T05:57:02.110999Z",
     "iopub.status.idle": "2022-09-14T05:57:02.122481Z",
     "shell.execute_reply": "2022-09-14T05:57:02.121870Z"
    }
   },
   "outputs": [
    {
     "data": {
      "text/plain": [
       "array(['Versicolor', 'Setosa', 'Virginica', 'Versicolor', 'Virginica',\n",
       "       'Setosa', 'Virginica', 'Virginica', 'Versicolor', 'Versicolor',\n",
       "       'Virginica', 'Virginica', 'Virginica', 'Virginica', 'Virginica',\n",
       "       'Virginica', 'Versicolor', 'Setosa', 'Versicolor', 'Versicolor',\n",
       "       'Versicolor', 'Versicolor', 'Versicolor', 'Setosa', 'Virginica',\n",
       "       'Setosa', 'Setosa', 'Versicolor', 'Setosa', 'Setosa', 'Versicolor',\n",
       "       'Versicolor', 'Virginica', 'Virginica', 'Setosa', 'Setosa',\n",
       "       'Virginica', 'Setosa', 'Versicolor', 'Setosa', 'Virginica',\n",
       "       'Versicolor', 'Versicolor', 'Setosa', 'Versicolor', 'Versicolor',\n",
       "       'Virginica', 'Versicolor', 'Versicolor', 'Versicolor',\n",
       "       'Versicolor', 'Virginica', 'Versicolor', 'Virginica', 'Versicolor',\n",
       "       'Setosa', 'Versicolor', 'Virginica', 'Setosa', 'Setosa', 'Setosa',\n",
       "       'Virginica', 'Setosa', 'Setosa', 'Versicolor', 'Versicolor',\n",
       "       'Virginica', 'Versicolor', 'Versicolor', 'Virginica', 'Versicolor',\n",
       "       'Versicolor', 'Setosa', 'Virginica', 'Virginica', 'Virginica',\n",
       "       'Versicolor', 'Virginica', 'Virginica', 'Virginica', 'Versicolor',\n",
       "       'Virginica', 'Versicolor', 'Virginica', 'Virginica', 'Setosa',\n",
       "       'Versicolor', 'Virginica', 'Versicolor', 'Setosa', 'Versicolor',\n",
       "       'Versicolor', 'Virginica', 'Setosa', 'Setosa', 'Setosa',\n",
       "       'Versicolor', 'Virginica', 'Setosa', 'Virginica', 'Setosa',\n",
       "       'Setosa', 'Versicolor', 'Virginica', 'Setosa', 'Versicolor',\n",
       "       'Setosa', 'Setosa', 'Setosa', 'Virginica', 'Setosa', 'Virginica',\n",
       "       'Setosa', 'Setosa', 'Setosa', 'Setosa', 'Setosa', 'Setosa',\n",
       "       'Versicolor', 'Setosa', 'Setosa', 'Setosa', 'Versicolor',\n",
       "       'Virginica', 'Versicolor', 'Setosa', 'Virginica', 'Setosa',\n",
       "       'Versicolor', 'Setosa', 'Setosa', 'Virginica', 'Virginica',\n",
       "       'Setosa', 'Versicolor', 'Setosa', 'Versicolor', 'Virginica',\n",
       "       'Virginica', 'Versicolor', 'Versicolor', 'Virginica', 'Versicolor',\n",
       "       'Virginica', 'Versicolor', 'Versicolor', 'Setosa', 'Versicolor',\n",
       "       'Setosa', 'Versicolor', 'Versicolor', 'Setosa', 'Virginica',\n",
       "       'Versicolor'], dtype=object)"
      ]
     },
     "execution_count": 6,
     "metadata": {},
     "output_type": "execute_result"
    }
   ],
   "source": [
    "y_pred = model.predict(batch_data)\n",
    "y_pred"
   ]
  },
  {
   "cell_type": "markdown",
   "metadata": {},
   "source": [
    "Batch prediction output is the last entry in the batch - it is output as a file 'latest_iris.png'"
   ]
  },
  {
   "cell_type": "code",
   "execution_count": 7,
   "metadata": {
    "execution": {
     "iopub.execute_input": "2022-09-14T05:57:02.125679Z",
     "iopub.status.busy": "2022-09-14T05:57:02.125330Z",
     "iopub.status.idle": "2022-09-14T05:57:02.180535Z",
     "shell.execute_reply": "2022-09-14T05:57:02.179750Z"
    }
   },
   "outputs": [],
   "source": [
    "flower = y_pred[y_pred.size-1] + \".png\"\n",
    "\n",
    "img = Image.open(flower)            \n",
    "\n",
    "img.save(\"latest_iris.png\")"
   ]
  },
  {
   "cell_type": "code",
   "execution_count": 8,
   "metadata": {
    "execution": {
     "iopub.execute_input": "2022-09-14T05:57:02.184515Z",
     "iopub.status.busy": "2022-09-14T05:57:02.184085Z",
     "iopub.status.idle": "2022-09-14T05:57:04.997598Z",
     "shell.execute_reply": "2022-09-14T05:57:04.996789Z"
    }
   },
   "outputs": [
    {
     "name": "stdout",
     "output_type": "stream",
     "text": [
      "2022-09-14 05:57:02,783 INFO: USE `dowlingj_featurestore`\n",
      "2022-09-14 05:57:03,577 INFO: SELECT `fg0`.`sepal_length` `sepal_length`, `fg0`.`sepal_width` `sepal_width`, `fg0`.`petal_length` `petal_length`, `fg0`.`petal_width` `petal_width`, `fg0`.`variety` `variety`\n",
      "FROM `dowlingj_featurestore`.`iris_1` `fg0`\n"
     ]
    },
    {
     "name": "stderr",
     "output_type": "stream",
     "text": [
      "UserWarning: pandas only support SQLAlchemy connectable(engine/connection) ordatabase string URI or sqlite3 DBAPI2 connectionother DBAPI2 objects are not tested, please consider using SQLAlchemy\n"
     ]
    },
    {
     "data": {
      "text/html": [
       "<div>\n",
       "<style scoped>\n",
       "    .dataframe tbody tr th:only-of-type {\n",
       "        vertical-align: middle;\n",
       "    }\n",
       "\n",
       "    .dataframe tbody tr th {\n",
       "        vertical-align: top;\n",
       "    }\n",
       "\n",
       "    .dataframe thead th {\n",
       "        text-align: right;\n",
       "    }\n",
       "</style>\n",
       "<table border=\"1\" class=\"dataframe\">\n",
       "  <thead>\n",
       "    <tr style=\"text-align: right;\">\n",
       "      <th></th>\n",
       "      <th>sepal_length</th>\n",
       "      <th>sepal_width</th>\n",
       "      <th>petal_length</th>\n",
       "      <th>petal_width</th>\n",
       "      <th>variety</th>\n",
       "    </tr>\n",
       "  </thead>\n",
       "  <tbody>\n",
       "    <tr>\n",
       "      <th>0</th>\n",
       "      <td>7.335088</td>\n",
       "      <td>3.547577</td>\n",
       "      <td>4.567607</td>\n",
       "      <td>1.693289</td>\n",
       "      <td>Virginica</td>\n",
       "    </tr>\n",
       "    <tr>\n",
       "      <th>1</th>\n",
       "      <td>4.900000</td>\n",
       "      <td>3.600000</td>\n",
       "      <td>1.400000</td>\n",
       "      <td>0.100000</td>\n",
       "      <td>Setosa</td>\n",
       "    </tr>\n",
       "    <tr>\n",
       "      <th>2</th>\n",
       "      <td>5.700000</td>\n",
       "      <td>2.500000</td>\n",
       "      <td>5.000000</td>\n",
       "      <td>2.000000</td>\n",
       "      <td>Virginica</td>\n",
       "    </tr>\n",
       "    <tr>\n",
       "      <th>3</th>\n",
       "      <td>5.700000</td>\n",
       "      <td>3.000000</td>\n",
       "      <td>4.200000</td>\n",
       "      <td>1.200000</td>\n",
       "      <td>Versicolor</td>\n",
       "    </tr>\n",
       "    <tr>\n",
       "      <th>4</th>\n",
       "      <td>6.700000</td>\n",
       "      <td>3.300000</td>\n",
       "      <td>5.700000</td>\n",
       "      <td>2.100000</td>\n",
       "      <td>Virginica</td>\n",
       "    </tr>\n",
       "    <tr>\n",
       "      <th>...</th>\n",
       "      <td>...</td>\n",
       "      <td>...</td>\n",
       "      <td>...</td>\n",
       "      <td>...</td>\n",
       "      <td>...</td>\n",
       "    </tr>\n",
       "    <tr>\n",
       "      <th>149</th>\n",
       "      <td>6.300000</td>\n",
       "      <td>3.300000</td>\n",
       "      <td>4.700000</td>\n",
       "      <td>1.600000</td>\n",
       "      <td>Versicolor</td>\n",
       "    </tr>\n",
       "    <tr>\n",
       "      <th>150</th>\n",
       "      <td>6.765720</td>\n",
       "      <td>3.136880</td>\n",
       "      <td>5.054364</td>\n",
       "      <td>1.588958</td>\n",
       "      <td>Virginica</td>\n",
       "    </tr>\n",
       "    <tr>\n",
       "      <th>151</th>\n",
       "      <td>5.248077</td>\n",
       "      <td>3.524002</td>\n",
       "      <td>1.230167</td>\n",
       "      <td>0.503731</td>\n",
       "      <td>Setosa</td>\n",
       "    </tr>\n",
       "    <tr>\n",
       "      <th>152</th>\n",
       "      <td>5.560206</td>\n",
       "      <td>3.293820</td>\n",
       "      <td>5.825793</td>\n",
       "      <td>1.598256</td>\n",
       "      <td>Virginica</td>\n",
       "    </tr>\n",
       "    <tr>\n",
       "      <th>153</th>\n",
       "      <td>5.025268</td>\n",
       "      <td>2.176264</td>\n",
       "      <td>4.495605</td>\n",
       "      <td>1.260169</td>\n",
       "      <td>Versicolor</td>\n",
       "    </tr>\n",
       "  </tbody>\n",
       "</table>\n",
       "<p>154 rows × 5 columns</p>\n",
       "</div>"
      ],
      "text/plain": [
       "     sepal_length  sepal_width  petal_length  petal_width     variety\n",
       "0        7.335088     3.547577      4.567607     1.693289   Virginica\n",
       "1        4.900000     3.600000      1.400000     0.100000      Setosa\n",
       "2        5.700000     2.500000      5.000000     2.000000   Virginica\n",
       "3        5.700000     3.000000      4.200000     1.200000  Versicolor\n",
       "4        6.700000     3.300000      5.700000     2.100000   Virginica\n",
       "..            ...          ...           ...          ...         ...\n",
       "149      6.300000     3.300000      4.700000     1.600000  Versicolor\n",
       "150      6.765720     3.136880      5.054364     1.588958   Virginica\n",
       "151      5.248077     3.524002      1.230167     0.503731      Setosa\n",
       "152      5.560206     3.293820      5.825793     1.598256   Virginica\n",
       "153      5.025268     2.176264      4.495605     1.260169  Versicolor\n",
       "\n",
       "[154 rows x 5 columns]"
      ]
     },
     "execution_count": 8,
     "metadata": {},
     "output_type": "execute_result"
    }
   ],
   "source": [
    "iris_fg = fs.get_feature_group(name=\"iris\", version=1)\n",
    "df = iris_fg.read()\n",
    "df"
   ]
  },
  {
   "cell_type": "code",
   "execution_count": 9,
   "metadata": {
    "execution": {
     "iopub.execute_input": "2022-09-14T05:57:05.001377Z",
     "iopub.status.busy": "2022-09-14T05:57:05.000923Z",
     "iopub.status.idle": "2022-09-14T05:57:05.007034Z",
     "shell.execute_reply": "2022-09-14T05:57:05.006348Z"
    }
   },
   "outputs": [
    {
     "data": {
      "text/plain": [
       "'Versicolor'"
      ]
     },
     "execution_count": 9,
     "metadata": {},
     "output_type": "execute_result"
    }
   ],
   "source": [
    "label = df.iloc[-1][\"variety\"]\n",
    "label"
   ]
  },
  {
   "cell_type": "code",
   "execution_count": 10,
   "metadata": {
    "execution": {
     "iopub.execute_input": "2022-09-14T05:57:05.010428Z",
     "iopub.status.busy": "2022-09-14T05:57:05.009896Z",
     "iopub.status.idle": "2022-09-14T05:57:05.057701Z",
     "shell.execute_reply": "2022-09-14T05:57:05.056861Z"
    }
   },
   "outputs": [],
   "source": [
    "label_flower = label + \".png\"\n",
    "\n",
    "img = Image.open(label_flower)            \n",
    "\n",
    "img.save(\"actual_iris.png\")"
   ]
  },
  {
   "cell_type": "code",
   "execution_count": 11,
   "metadata": {
    "execution": {
     "iopub.execute_input": "2022-09-14T05:57:05.062140Z",
     "iopub.status.busy": "2022-09-14T05:57:05.061519Z",
     "iopub.status.idle": "2022-09-14T05:57:05.067132Z",
     "shell.execute_reply": "2022-09-14T05:57:05.066466Z"
    }
   },
   "outputs": [],
   "source": [
    "from datetime import datetime\n",
    "\n",
    "with open('iris-prediction-time.txt', 'w') as f:\n",
    "    f.write(datetime.now().strftime(\"%m/%d/%Y, %H:%M:%S\"))"
   ]
  },
  {
   "cell_type": "code",
   "execution_count": null,
   "metadata": {},
   "outputs": [],
   "source": []
  }
 ],
 "metadata": {
  "colab": {
   "collapsed_sections": [],
   "provenance": []
  },
  "kernelspec": {
   "display_name": "Python 3 (ipykernel)",
   "language": "python",
   "name": "python3"
  },
  "language_info": {
   "codemirror_mode": {
    "name": "ipython",
    "version": 3
   },
   "file_extension": ".py",
   "mimetype": "text/x-python",
   "name": "python",
   "nbconvert_exporter": "python",
   "pygments_lexer": "ipython3",
   "version": "3.8.1"
  }
 },
 "nbformat": 4,
 "nbformat_minor": 1
}
